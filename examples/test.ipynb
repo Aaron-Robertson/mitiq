{
 "cells": [
  {
   "cell_type": "markdown",
   "metadata": {},
   "source": [
    "# Test"
   ]
  },
  {
   "cell_type": "code",
   "execution_count": 1,
   "metadata": {},
   "outputs": [],
   "source": [
    "try:\n",
    "    import mitiq\n",
    "except ImportError:\n",
    "    !pip install mitiq --quiet"
   ]
  },
  {
   "cell_type": "code",
   "execution_count": 2,
   "metadata": {},
   "outputs": [],
   "source": [
    "import mitiq"
   ]
  },
  {
   "cell_type": "code",
   "execution_count": 3,
   "metadata": {},
   "outputs": [
    {
     "name": "stdout",
     "output_type": "stream",
     "text": [
      "\n",
      "Mitiq: A Python toolkit for implementing error mitigation on quantum computers\n",
      "==============================================================================\n",
      "Authored by: Mitiq team, 2020 & later (https://github.com/unitaryfund/mitiq)\n",
      "\n",
      "Mitiq Version:\t0.4.0\n",
      "\n",
      "Core Dependencies\n",
      "-----------------\n",
      "Cirq Version:\t0.9.1\n",
      "NumPy Version:\t1.18.5\n",
      "SciPy Version:\t1.4.1\n",
      "\n",
      "Optional Dependencies\n",
      "---------------------\n",
      "PyQuil Version:\t2.18.0\n",
      "Qiskit Version:\t0.12.0\n",
      "\n",
      "Python Version:\t3.6.8\n",
      "Platform Info:\tLinux (x86_64)\n"
     ]
    }
   ],
   "source": [
    "mitiq.about()"
   ]
  }
 ],
 "metadata": {
  "kernelspec": {
   "display_name": "Python 3",
   "language": "python",
   "name": "python3"
  },
  "language_info": {
   "codemirror_mode": {
    "name": "ipython",
    "version": 3
   },
   "file_extension": ".py",
   "mimetype": "text/x-python",
   "name": "python",
   "nbconvert_exporter": "python",
   "pygments_lexer": "ipython3",
   "version": "3.6.8"
  }
 },
 "nbformat": 4,
 "nbformat_minor": 4
}
