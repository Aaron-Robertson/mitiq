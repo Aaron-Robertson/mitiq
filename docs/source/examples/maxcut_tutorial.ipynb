{
 "cells": [
  {
   "cell_type": "markdown",
   "metadata": {},
   "source": [
    "# Solving MaxCut with QAOA improved by zero-noise extrapolation"
   ]
  },
  {
   "cell_type": "markdown",
   "metadata": {},
   "source": [
    "In this notebook we solve a simple _MaxCut_ problem with the _Quantum Approximate Optimization Algorithm_ (QAOA) [[Farhi, Goldstone, Gutmann, arXiv:1411.4028]](https://arxiv.org/abs/1411.4028) executed on a simulated noisy backend. \n",
    "In particular we are interested in investigating how _Mitiq_ can help reduce errors and improve the results."
   ]
  },
  {
   "cell_type": "markdown",
   "metadata": {},
   "source": [
    "## The MaxCut problem"
   ]
  },
  {
   "cell_type": "markdown",
   "metadata": {},
   "source": [
    "A **graph**, is a mathematical object characterized by a set $V$ of **vertices (or nodes)** that we can number with integers $V=\\{0, 1, 2, \\dots, n-1\\}$ and a set $E$ of **edges** (pairs of nodes) which can be defined as $E=\\{(a_1, b_1), (a_2, b_2), ...., (a_m, b_m)\\}$, where $a_j\\neq b_j$ and  $a_j, b_j \\in V$.\n",
    "\n",
    "\n",
    "**Note:** If we are not interested in isolated nodes (not connected to any edge), the set of edges $E$ completely determine the graph $G=(V, E)$.\n",
    "\n",
    "Therefore, in Python, we can represent a graph without isolated nodes as a list **list of tuples**, where each tuple is a **pair of integers**.\n",
    "For example a **square graph** can be expressed as:"
   ]
  },
  {
   "cell_type": "code",
   "execution_count": 1,
   "metadata": {},
   "outputs": [],
   "source": [
    "# Square graph\n",
    "square_graph = [(0, 1), (1, 2), (2, 3), (3, 0)]"
   ]
  },
  {
   "cell_type": "markdown",
   "metadata": {},
   "source": [
    "Given a graph $(V, E)$, the **MaxCut problem** is to divide the nodes $V$ into two disjoint subsets $V_A$ and $V_B$, such that the number of cuts (edges with one vertex in $V_A$ and one vertex in $V_B$) is maximized."
   ]
  },
  {
   "cell_type": "code",
   "execution_count": 2,
   "metadata": {},
   "outputs": [],
   "source": [
    "from typing import List, Tuple\n",
    "\n",
    "def count_cuts(graph: List[Tuple[int]], set_a: set, set_b: set):\n",
    "    \"\"\"Counts the number of cuts of a graph bipartition.\"\"\"\n",
    "    num_cuts = 0\n",
    "    for edge in graph:\n",
    "        if edge[0] in set_a and edge[1] in set_b:\n",
    "            num_cuts += 1\n",
    "        if edge[0] in set_b and edge[1] in set_a:\n",
    "            num_cuts += 1\n",
    "    return num_cuts       "
   ]
  },
  {
   "cell_type": "markdown",
   "metadata": {},
   "source": [
    "For example, for the square graph previously defined, the maximum number of cuts is $4$ which can be achieved by multiple solutions. For example one of the two optimal solutions is:"
   ]
  },
  {
   "cell_type": "code",
   "execution_count": 3,
   "metadata": {},
   "outputs": [],
   "source": [
    "set_a = {0, 2}\n",
    "set_b = {1, 3}"
   ]
  },
  {
   "cell_type": "markdown",
   "metadata": {},
   "source": [
    "Indeed, in this case, we have a cut for all the edges of `square_graph`, and so their number is maximum. "
   ]
  },
  {
   "cell_type": "code",
   "execution_count": 4,
   "metadata": {},
   "outputs": [
    {
     "data": {
      "text/plain": [
       "4"
      ]
     },
     "execution_count": 4,
     "metadata": {},
     "output_type": "execute_result"
    }
   ],
   "source": [
    "count_cuts(square_graph, set_a, set_b)"
   ]
  },
  {
   "cell_type": "markdown",
   "metadata": {},
   "source": [
    "An example of a sub-optimal solution is instead:"
   ]
  },
  {
   "cell_type": "code",
   "execution_count": 5,
   "metadata": {},
   "outputs": [
    {
     "data": {
      "text/plain": [
       "2"
      ]
     },
     "execution_count": 5,
     "metadata": {},
     "output_type": "execute_result"
    }
   ],
   "source": [
    "set_a = {0}\n",
    "set_b = {1, 2, 3}\n",
    "count_cuts(square_graph, set_a, set_b)"
   ]
  },
  {
   "cell_type": "markdown",
   "metadata": {},
   "source": [
    "### Representing a solution as bitstring"
   ]
  },
  {
   "cell_type": "markdown",
   "metadata": {},
   "source": [
    "A handy way of representing a candidate solution of the MaxCut problem, is to use a bitstring $s_n \\cdots s_2s_1$ in which each bit $s_j$ is associated to the $j_{\\rm th}$ node of the graph. The value of each bit, $0$ or $1$, can be used to represent the corresponding subset, $V_A$ or $V_B$, to which the node belongs.\n",
    "\n",
    "For example, using a big-endian convention, the previous optimal and sub-optimal solutions can be represented as:"
   ]
  },
  {
   "cell_type": "code",
   "execution_count": 6,
   "metadata": {},
   "outputs": [],
   "source": [
    "optimal_string = \"1010\"\n",
    "sub_optimal_string = \"1110\""
   ]
  },
  {
   "cell_type": "markdown",
   "metadata": {},
   "source": [
    "The corresponding function to count the number of graph cuts can be written in the following way wich is very similar to the quantum cost function that we will define in the next section."
   ]
  },
  {
   "cell_type": "code",
   "execution_count": 7,
   "metadata": {},
   "outputs": [],
   "source": [
    "def count_cuts_from_string(graph: List[Tuple[int]], bitstring: str):\n",
    "    \"\"\"Counts the number of cuts of a graph bipartition represented as a (big-endian) bitstring. \n",
    "    \"\"\"\n",
    "    cost = 0\n",
    "    for i, j in graph:\n",
    "        z1 = (2 * int(bitstring[-i]) - 1)\n",
    "        z2 = (2 * int(bitstring[-j]) - 1)\n",
    "        cost += -(1 - z1 * z2) // 2\n",
    "    return -cost"
   ]
  },
  {
   "cell_type": "markdown",
   "metadata": {},
   "source": [
    "Let's test this function:"
   ]
  },
  {
   "cell_type": "code",
   "execution_count": 8,
   "metadata": {},
   "outputs": [
    {
     "data": {
      "text/plain": [
       "4"
      ]
     },
     "execution_count": 8,
     "metadata": {},
     "output_type": "execute_result"
    }
   ],
   "source": [
    "# Test the function\n",
    "count_cuts_from_string(square_graph, optimal_string)"
   ]
  },
  {
   "cell_type": "code",
   "execution_count": 9,
   "metadata": {},
   "outputs": [
    {
     "data": {
      "text/plain": [
       "2"
      ]
     },
     "execution_count": 9,
     "metadata": {},
     "output_type": "execute_result"
    }
   ],
   "source": [
    "count_cuts_from_string(square_graph, sub_optimal_string)"
   ]
  },
  {
   "cell_type": "markdown",
   "metadata": {},
   "source": [
    "The MaxCut problem is **NP-hard**. This means that it is computationally very hard (at least as hard as any NP problem). It is widely suspected that NP-hard problems will never admit a polynomial algorithm even if we had at disposal an ideal quantum computer.\n",
    "\n",
    "However, for practical applications, it is often possible to obtain good **approximations** of the optimal exact solution. In this notebook we are interested in using the _Quantum Approximate Optimization Algorithm_ (QAOA) to get an approximate solution the MaxCut problem for a given graph."
   ]
  },
  {
   "cell_type": "markdown",
   "metadata": {},
   "source": [
    "## Embedding a MaxCut problem into a physical Hamiltonian"
   ]
  },
  {
   "cell_type": "markdown",
   "metadata": {},
   "source": [
    "Given a graph $G=(V,E)$ with $n=|V|$ nodes and $m=|E|$ edges, one can define the following Hamiltonian acting on a system of $n$ qubits:\n",
    "\n",
    "$$H = \\sum_{(i,\\, j) \\in E}  \\frac{1}{2} (1 - Z_i Z_j),$$\n",
    "\n",
    "where $Z_k$ is the Pauli-Z operator applied to the qubit $k$, such that $Z_k |0>_k = +|0 \\rangle_k$ and $Z_k |1>_k = - |1 \\rangle_k$.\n",
    "\n",
    "Now we can associate each qubit of the system to a vertex of the graph. A potential solution of the MaxCut problem  (i.e., the partition $(V_A, V_B)$) can be represented by a quantum product state: \n",
    "\n",
    "$$|\\psi \\rangle = |s_n \\rangle \\cdots |s_2 \\rangle |s_1\\rangle, $$\n",
    "where $s_j=0$ if $j \\in V_A$, while $s_j=1$ if $j \\in V_B$. \n",
    "\n",
    "In this case it is easy to check that the corresponding number of cuts is given by the opposite of the expectation value of the Hamiltonian $H$:\n",
    "\n",
    "$$ \\text{number of cuts } =  - \\langle \\psi | H | \\psi \\rangle .$$\n",
    "\n",
    "In this physical picture, the MaxCut problem corresponds to the problem of finding the ground state of $H$ and the maximum number of cuts is equal to minus the ground state energy."
   ]
  },
  {
   "cell_type": "markdown",
   "metadata": {},
   "source": [
    "### Define the QAOA cost Hamiltonian using Cirq"
   ]
  },
  {
   "cell_type": "code",
   "execution_count": 10,
   "metadata": {},
   "outputs": [],
   "source": [
    "from cirq import NamedQubit, Circuit, identity_each, ZZ\n",
    "import numpy as np\n",
    "\n",
    "def qaoa_hamiltonian(graph: List[Tuple[float]]) -> np.ndarray:\n",
    "    \"\"\"Returns the cost Hamiltonian assocated to the input graph.\n",
    "    \"\"\"\n",
    "    # Get all the nodes of the graph\n",
    "    nodes = list({node for edge in graph for node in edge})\n",
    "    # Initialize the qubits. One for each node.\n",
    "    qreg = [NamedQubit(str(nn)) for nn in nodes]\n",
    "    # Define the Hamiltonian as a NumPy array\n",
    "    np_identity = np.eye(2 ** len(nodes))\n",
    "    zz_terms = np.real([Circuit([identity_each(*qreg), ZZ(qreg[i], qreg[j])]).unitary() for i, j in graph])\n",
    "    local_terms = [-0.5 * (np_identity - zz_term) for zz_term in zz_terms]\n",
    "    return sum(local_terms)\n",
    "    "
   ]
  },
  {
   "cell_type": "markdown",
   "metadata": {},
   "source": [
    "Since it is diagonal in the computational basis, we can get the ground state energy as follows:"
   ]
  },
  {
   "cell_type": "code",
   "execution_count": 11,
   "metadata": {},
   "outputs": [
    {
     "data": {
      "text/plain": [
       "-4.0"
      ]
     },
     "execution_count": 11,
     "metadata": {},
     "output_type": "execute_result"
    }
   ],
   "source": [
    "eig_vals = np.diag(qaoa_hamiltonian(square_graph))\n",
    "# Ground state energy\n",
    "min(eig_vals)"
   ]
  },
  {
   "cell_type": "markdown",
   "metadata": {},
   "source": [
    "which, as expected, corresponds to the opposite of the maximum number of cuts of the original graph.\n",
    "\n",
    "The associated optimal eigenstates are:\n"
   ]
  },
  {
   "cell_type": "code",
   "execution_count": 12,
   "metadata": {},
   "outputs": [
    {
     "data": {
      "text/plain": [
       "['0101', '1010']"
      ]
     },
     "execution_count": 12,
     "metadata": {},
     "output_type": "execute_result"
    }
   ],
   "source": [
    "nodes = list({node for edge in square_graph for node in edge})\n",
    "num_nodes = len(nodes)\n",
    "optimal_bitstrings = [f\"{j:b}\".zfill(num_nodes) for j, eig_val in enumerate(eig_vals) if eig_val == min(eig_vals)]\n",
    "optimal_bitstrings"
   ]
  },
  {
   "cell_type": "markdown",
   "metadata": {},
   "source": [
    "Which indeed correspond to the 2 optimal bipartitions of the original MaxCut problem:"
   ]
  },
  {
   "cell_type": "code",
   "execution_count": 13,
   "metadata": {},
   "outputs": [
    {
     "data": {
      "text/plain": [
       "[4, 4]"
      ]
     },
     "execution_count": 13,
     "metadata": {},
     "output_type": "execute_result"
    }
   ],
   "source": [
    "[count_cuts_from_string(square_graph, bitstring) for bitstring in optimal_bitstrings]"
   ]
  },
  {
   "cell_type": "markdown",
   "metadata": {},
   "source": [
    "## Using the Quantum Approximate Optimization Algorithm to find the ground state"
   ]
  },
  {
   "cell_type": "markdown",
   "metadata": {},
   "source": [
    "The size of the previously introduced Hamiltonian is $2^n \\times 2^n$. So, when the graph has many nodes, finding  the eigenvalues and or the eigenstates as we did above becomes exponentially hard.\n",
    "\n",
    "**Is there a way of finding the ground state of a Hamiltonian using a NISQ quantum computer?**\n",
    "\n",
    "Here comes into play the so called  Quantum Approximate Optimization Algorithm (QAOA) [[Farhi, Goldstone, Gutmann, arXiv:1411.4028]](https://arxiv.org/abs/1411.4028).\n",
    "This method consists of generating a potential solution state through a variational circuit $U_{\\vec \\alpha, \\vec \\beta}$ which depends on two vectors of $p$ real parameters $\\vec \\alpha = (\\alpha_1, .... \\alpha_p)$, $\\vec \\beta= (\\beta_1, .... \\beta_p)$ and has the following structure:\n",
    " \n",
    "$$|\\psi(\\vec \\alpha, \\vec \\beta) \\rangle = U_{\\vec \\alpha, \\vec \\beta}|+\\rangle ^{\\otimes n} \n",
    "= R_{\\alpha_p} W_{\\beta_p} \\cdots R_{\\alpha_1} W_{\\beta_1} |+\\rangle ^{\\otimes n},$$\n",
    "\n",
    "where $|+> = (|0\\rangle + |1\\rangle)/\\sqrt{2}$ and\n",
    "\n",
    "$$W_{\\beta} = e^{i \\beta H }, \\quad R_{\\alpha} = e^{i \\alpha \\sum_{j=1}^n X_j },$$\n",
    "corresponding to the time evolution generated by system Hamiltonian $H$ and by a mixing Hamiltonian $H_{\\rm mix}= \\sum_j X_j$, respectively.\n",
    "\n",
    "After applying the circuit to generate $|\\psi(\\vec \\alpha, \\vec \\beta) \\rangle$, one can easily measure the energy of the final state\n",
    "\n",
    "$$E(\\vec \\alpha, \\vec \\beta) =  \\langle \\psi(\\vec \\alpha, \\vec \\beta) | H |\\psi(\\vec \\alpha, \\vec \\beta)\\rangle,$$\n",
    "\n",
    "via simple measurements in the computational basis of the qubits. Repeating this procedures for many steps and minimizing the **cost function** $E(\\vec \\alpha, \\vec \\beta)$ with respect to the parameters $\\vec \\alpha$ and $\\vec \\beta$ one can approximate the ground state of $H$.\n",
    "\n",
    "The maximum number of cuts for the original graph will be given by the opposite of the optimal cost: $- E(\\vec \\alpha, \\vec \\beta)^*$.\n",
    "\n",
    "The corresponding state will be a superposition of one or more optimal solution states $|s_1 \\rangle |s_2 \\rangle \\cdots |s_n\\rangle$ representing optimal bipartitions $(V_A, V_B)$ of the MaxCut problem."
   ]
  },
  {
   "cell_type": "markdown",
   "metadata": {},
   "source": [
    "### Defining the QAOA ansatz"
   ]
  },
  {
   "cell_type": "code",
   "execution_count": 14,
   "metadata": {},
   "outputs": [],
   "source": [
    "from cirq import H, X\n",
    "from typing import List, Tuple\n",
    "    \n",
    "def qaoa_ansatz(graph: List[Tuple[float]], params: List[float]) -> Circuit:\n",
    "\n",
    "    # Get the list of unique nodes from the list of edges\n",
    "    nodes = list({node for edge in graph for node in edge})\n",
    "\n",
    "    # Initialize the qubits\n",
    "    qreg = [NamedQubit(str(nn)) for nn in nodes]\n",
    "\n",
    "    # Define the Hamiltonian evolution (up to an additive and a multiplicative constant)\n",
    "    def h_step(beta: float) -> Circuit:\n",
    "        return Circuit(ZZ(qreg[u], qreg[v]) ** (beta) for u, v in graph)\n",
    "\n",
    "    # Define the mixing evolution (up to an additive and a multiplicative constant)\n",
    "    def mix_step(gamma: float) -> Circuit:\n",
    "        return Circuit(X(qq) ** gamma for qq in qreg)\n",
    "    \n",
    "    # State preparation layer\n",
    "    circ = Circuit(H.on_each(qreg))\n",
    "    \n",
    "    # Apply QAOA steps\n",
    "    num_steps = len(params) // 2\n",
    "    betas, alphas = params[:num_steps], params[num_steps:]\n",
    "    for beta, alpha in zip(betas, alphas):\n",
    "        circ.append([h_step(beta) + mix_step(alpha)]) \n",
    "    \n",
    "    return circ"
   ]
  },
  {
   "cell_type": "markdown",
   "metadata": {},
   "source": [
    "For example, a 2-step QAOA circuit can be generated as follows:"
   ]
  },
  {
   "cell_type": "code",
   "execution_count": 15,
   "metadata": {},
   "outputs": [
    {
     "data": {
      "text/html": [
       "<pre style=\"overflow: auto; white-space: pre;\">0: ───H───ZZ─────────────────────────ZZ───────X^0.3───ZZ─────────────────────────ZZ───────X^0.4───\n",
       "          │                          │                │                          │\n",
       "1: ───H───ZZ^0.1───ZZ────────────────┼────────X^0.3───ZZ^0.2───ZZ────────────────┼────────X^0.4───\n",
       "                   │                 │                         │                 │\n",
       "2: ───H────────────ZZ^0.1───ZZ───────┼────────X^0.3────────────ZZ^0.2───ZZ───────┼────────X^0.4───\n",
       "                            │        │                                  │        │\n",
       "3: ───H─────────────────────ZZ^0.1───ZZ^0.1───X^0.3─────────────────────ZZ^0.2───ZZ^0.2───X^0.4───</pre>"
      ],
      "text/plain": [
       "0: ───H───ZZ─────────────────────────ZZ───────X^0.3───ZZ─────────────────────────ZZ───────X^0.4───\n",
       "          │                          │                │                          │\n",
       "1: ───H───ZZ^0.1───ZZ────────────────┼────────X^0.3───ZZ^0.2───ZZ────────────────┼────────X^0.4───\n",
       "                   │                 │                         │                 │\n",
       "2: ───H────────────ZZ^0.1───ZZ───────┼────────X^0.3────────────ZZ^0.2───ZZ───────┼────────X^0.4───\n",
       "                            │        │                                  │        │\n",
       "3: ───H─────────────────────ZZ^0.1───ZZ^0.1───X^0.3─────────────────────ZZ^0.2───ZZ^0.2───X^0.4───"
      ]
     },
     "execution_count": 15,
     "metadata": {},
     "output_type": "execute_result"
    }
   ],
   "source": [
    "betas = [0.1, 0.2]\n",
    "alphas = [0.3, 0.4]\n",
    "params = betas + alphas\n",
    "qaoa_ansatz(square_graph, params)"
   ]
  },
  {
   "cell_type": "markdown",
   "metadata": {},
   "source": [
    "### Defining an \"executor\" function to run or simulate the experiment\n",
    "\n",
    "QAOA requires the evaluation of quantum expectation values. Therefore, we define a function which inputs a generic  circuit and returns the expectation value of a generic observable."
   ]
  },
  {
   "cell_type": "code",
   "execution_count": 16,
   "metadata": {},
   "outputs": [],
   "source": [
    "from cirq import depolarize, DensityMatrixSimulator\n",
    "\n",
    "def executor(circ: Circuit, obs: np.array, noise: float) -> float:\n",
    "    \"\"\"Simulates a circuit with depolarizing noise at level 'noise' and returns the\n",
    "    expectation value of the observable 'obs'.\n",
    "    \"\"\"\n",
    "    SIMULATOR = DensityMatrixSimulator()\n",
    "    # Add the noise\n",
    "    noisy_circ = circ.with_noise(depolarize(p=noise))\n",
    "    # Get the final quantum state\n",
    "    rho = SIMULATOR.simulate(noisy_circ).final_density_matrix\n",
    "    # Return the expectation value\n",
    "    return np.real(np.trace(rho @ obs))"
   ]
  },
  {
   "cell_type": "markdown",
   "metadata": {},
   "source": [
    "For example, let us get the expectation value of the cost Hamiltonian (without optimizing the circuit):"
   ]
  },
  {
   "cell_type": "code",
   "execution_count": 17,
   "metadata": {},
   "outputs": [
    {
     "data": {
      "text/plain": [
       "-1.4574786014854908"
      ]
     },
     "execution_count": 17,
     "metadata": {},
     "output_type": "execute_result"
    }
   ],
   "source": [
    "betas = [0.1, 0.2]\n",
    "alphas = [0.3, 0.4]\n",
    "params = betas + alphas\n",
    "circuit = qaoa_ansatz(square_graph, params)\n",
    "hamiltonian = qaoa_hamiltonian(square_graph)\n",
    "executor(circuit, obs=hamiltonian, noise=0)"
   ]
  },
  {
   "cell_type": "markdown",
   "metadata": {},
   "source": [
    "### Minimization of the QAOA cost\n",
    "\n",
    "Let us define a function which can be used for running the QAOA optimization."
   ]
  },
  {
   "cell_type": "code",
   "execution_count": 18,
   "metadata": {},
   "outputs": [],
   "source": [
    "from typing import Callable\n",
    "from scipy.optimize import minimize\n",
    "\n",
    " \n",
    "def minimize_cost(\n",
    "    cost_function: Callable[[np.array], float],\n",
    "    init_params: np.array,\n",
    ") -> Tuple[float, np.ndarray, List[float]]:\n",
    "    \"\"\"Minimizes a cost function which depends on an array variational parameters.\n",
    "\n",
    "    Args:\n",
    "        cost_function: The cost function to minimize.\n",
    "        init_params: The initial variational parameters.\n",
    "\n",
    "    Returns:\n",
    "        A triple of the minimum cost, the optimal parameters and a list of costs at each iteration steps.\n",
    "    \"\"\"\n",
    "   \n",
    "    \n",
    "    # store the optimization trajectory\n",
    "    traj = []\n",
    "\n",
    "    def callback(xk: np.ndarray) -> bool:\n",
    "        traj.append(cost_function(xk))\n",
    "        return True\n",
    "\n",
    "    results = minimize(\n",
    "        cost_function,\n",
    "        x0=init_params,\n",
    "        method=\"Nelder-Mead\",\n",
    "        callback=callback,\n",
    "        options={\"disp\": True, \"maxiter\": 300},\n",
    "        # Set tol=0 to enforce a fixed number of iterations.\n",
    "        # Comment tol=0 to speedup the notebook execution.\n",
    "        tol=0,\n",
    "    )\n",
    "\n",
    "    plt.title(\"Optimization history\")\n",
    "    plt.xlabel(\"Iteration Step\")\n",
    "    plt.ylabel(\"Cost\")\n",
    "    plt.plot(traj)\n",
    "    plt.show()\n",
    "    return results.fun, results.x, traj"
   ]
  },
  {
   "cell_type": "markdown",
   "metadata": {},
   "source": [
    "## Comparing ideal, noisy and mitigated backends"
   ]
  },
  {
   "cell_type": "markdown",
   "metadata": {},
   "source": [
    "### Ideal simulation\n"
   ]
  },
  {
   "cell_type": "markdown",
   "metadata": {},
   "source": [
    "We focus on the square graph and try to solve the associated QAOA algorithm.\n",
    "First, we consider the ideal situation of a noiseless backend."
   ]
  },
  {
   "cell_type": "code",
   "execution_count": 19,
   "metadata": {},
   "outputs": [],
   "source": [
    "from matplotlib import pyplot as plt\n",
    "\n",
    "graph = [(0, 1), (1, 2), (2, 3), (3, 0)]\n",
    "betas = [0.0, 0.5]\n",
    "gammas = [0.7, 1.0]\n",
    "init_params = betas + gammas"
   ]
  },
  {
   "cell_type": "code",
   "execution_count": 20,
   "metadata": {},
   "outputs": [
    {
     "name": "stdout",
     "output_type": "stream",
     "text": [
      "Warning: Maximum number of iterations has been exceeded.\n"
     ]
    },
    {
     "data": {
      "image/png": "[encoded data removed]",
      "text/plain": [
       "<Figure size 432x288 with 1 Axes>"
      ]
     },
     "metadata": {
      "needs_background": "light"
     },
     "output_type": "display_data"
    },
    {
     "name": "stdout",
     "output_type": "stream",
     "text": [
      "Ideal cost:  -4.0\n"
     ]
    }
   ],
   "source": [
    "def qaoa_ideal_cost(params: np.array) -> float:\n",
    "    \"\"\"Ideal cost function of the QAOA problem without noise.\"\"\"\n",
    "    qaoa_circuit = qaoa_ansatz(graph, params)\n",
    "    qaoa_obs = qaoa_hamiltonian(graph)\n",
    "    return executor(qaoa_circuit, qaoa_obs, noise=0)\n",
    "\n",
    "ideal_opt_cost, ideal_opt_params, traj = minimize_cost(qaoa_ideal_cost, init_params)\n",
    "print(\"Ideal cost: \", np.round(ideal_opt_cost, 4))"
   ]
  },
  {
   "cell_type": "markdown",
   "metadata": {},
   "source": [
    "Since the simulation is exact, we reach the optimal cost associated to (minus) the maximum number of cuts of the graph."
   ]
  },
  {
   "cell_type": "markdown",
   "metadata": {},
   "source": [
    "## Using a noisy unmitigated simulator\n",
    "\n",
    "We assume to have some depolarizing noise. This means that we need to re-define the QAOA cost function using a noisy executor function."
   ]
  },
  {
   "cell_type": "code",
   "execution_count": 21,
   "metadata": {
    "scrolled": true
   },
   "outputs": [
    {
     "name": "stdout",
     "output_type": "stream",
     "text": [
      "Warning: Maximum number of iterations has been exceeded.\n"
     ]
    },
    {
     "data": {
      "image/png": "[encoded data removed]",
      "text/plain": [
       "<Figure size 432x288 with 1 Axes>"
      ]
     },
     "metadata": {
      "needs_background": "light"
     },
     "output_type": "display_data"
    }
   ],
   "source": [
    "BASE_NOISE = 0.03\n",
    "def qaoa_noisy_cost(params: np.array) -> float:\n",
    "    \"\"\"Noisy cost function of the QAOA problem.\"\"\"\n",
    "    qaoa_circuit = qaoa_ansatz(graph, params)\n",
    "    qaoa_obs = qaoa_hamiltonian(graph)\n",
    "    return executor(qaoa_circuit, qaoa_obs, noise=BASE_NOISE)\n",
    "\n",
    "noisy_opt_cost, noisy_opt_params, noisy_traj = minimize_cost(qaoa_noisy_cost, init_params)"
   ]
  },
  {
   "cell_type": "markdown",
   "metadata": {},
   "source": [
    "Because of noise, the QAOA optimization is not able to converge to the optimal solution. \n",
    "\n",
    "Indeed the variational parameters optimized with noise do not minimize the ideal cost."
   ]
  },
  {
   "cell_type": "code",
   "execution_count": 22,
   "metadata": {},
   "outputs": [
    {
     "name": "stdout",
     "output_type": "stream",
     "text": [
      "Noisy cost:  -2.5539\n",
      "Ideal cost evaluated at noisy parameters:  -3.0002\n",
      "Ideal cost:  -4.0\n"
     ]
    }
   ],
   "source": [
    "print(\"Noisy cost: \", np.round(noisy_opt_cost, 4))\n",
    "print(\"Ideal cost evaluated at noisy parameters: \", np.round(qaoa_ideal_cost(noisy_opt_params), 4))\n",
    "print(\"Ideal cost: \", np.round(ideal_opt_cost, 4))"
   ]
  },
  {
   "cell_type": "markdown",
   "metadata": {},
   "source": [
    "### Using a noisy simulator mitigated with Mitiq\n",
    "\n",
    "Now let's try to mitigate this noise using Mitiq.\n",
    "\n",
    "This can be done by simply wrapping the noisy executor into a mitigated executor."
   ]
  },
  {
   "cell_type": "code",
   "execution_count": 23,
   "metadata": {},
   "outputs": [],
   "source": [
    "import mitiq\n",
    "from mitiq.zne import mitigate_executor\n",
    "\n",
    "# Choose a noise scaling method\n",
    "scaling_method = mitiq.zne.scaling.fold_global\n",
    "\n",
    "# Initialize an inference method (i.e. a Mitiq Factory)\n",
    "inference_factory = mitiq.zne.inference.LinearFactory(scale_factors=[1.0, 3.0])"
   ]
  },
  {
   "cell_type": "code",
   "execution_count": 24,
   "metadata": {},
   "outputs": [
    {
     "name": "stdout",
     "output_type": "stream",
     "text": [
      "Warning: Maximum number of iterations has been exceeded.\n"
     ]
    },
    {
     "data": {
      "image/png": "[encoded data removed]",
      "text/plain": [
       "<Figure size 432x288 with 1 Axes>"
      ]
     },
     "metadata": {
      "needs_background": "light"
     },
     "output_type": "display_data"
    }
   ],
   "source": [
    "from functools import partial\n",
    "\n",
    "def qaoa_mitigated_cost(params: np.array) -> float:\n",
    "    \"\"\"Cost function of the QAOA problem using error mitigation.\"\"\"\n",
    "    qaoa_circuit = qaoa_ansatz(graph, params)\n",
    "    qaoa_obs = qaoa_hamiltonian(graph)\n",
    "    noisy_executor = partial(executor, obs=qaoa_obs, noise=BASE_NOISE)\n",
    "    mitigated_executor = mitigate_executor(noisy_executor, inference_factory, scaling_method)\n",
    "    return mitigated_executor(qaoa_circuit)\n",
    "\n",
    "mitig_opt_cost, mitig_opt_params, mitig_traj = minimize_cost(qaoa_mitigated_cost, init_params)"
   ]
  },
  {
   "cell_type": "code",
   "execution_count": 25,
   "metadata": {},
   "outputs": [
    {
     "name": "stdout",
     "output_type": "stream",
     "text": [
      "Mitigated cost:  -3.0967\n",
      "Noisy cost evaluated at noisy parameters:  -2.5539\n",
      "Noisy cost evaluated at mitigated parameters:  -2.7841\n",
      "Ideal cost evaluated at noisy parameters:  -3.0002\n",
      "Ideal cost evaluated at mitigated parameters:  -3.9338\n",
      "Ideal cost:  -4.0\n"
     ]
    }
   ],
   "source": [
    "print(\"Mitigated cost: \", np.round(mitig_opt_cost, 4))\n",
    "print(\"Noisy cost evaluated at noisy parameters: \", np.round(noisy_opt_cost, 4))\n",
    "print(\"Noisy cost evaluated at mitigated parameters: \",np.round(qaoa_noisy_cost(mitig_opt_params), 4))\n",
    "print(\"Ideal cost evaluated at noisy parameters: \", np.round(qaoa_ideal_cost(noisy_opt_params), 4))\n",
    "print(\"Ideal cost evaluated at mitigated parameters: \", np.round(qaoa_ideal_cost(mitig_opt_params), 4))\n",
    "print(\"Ideal cost: \", np.round(ideal_opt_cost, 4))"
   ]
  },
  {
   "cell_type": "markdown",
   "metadata": {},
   "source": [
    "The optimization was clearly enhanced by the application of zero-noise extrapolation. "
   ]
  },
  {
   "cell_type": "markdown",
   "metadata": {},
   "source": [
    "### Trying ZNE with different noise scaling methods and different inference methods"
   ]
  },
  {
   "cell_type": "markdown",
   "metadata": {},
   "source": [
    "With Mitiq, it is very easy to switch between different ZNE methods. For example, to use a different noise scaling method, we can simply import a different function from `mitiq.zne.scaling`:"
   ]
  },
  {
   "cell_type": "code",
   "execution_count": 26,
   "metadata": {},
   "outputs": [],
   "source": [
    "# Choose a noise scaling method\n",
    "scaling_method = mitiq.zne.scaling.fold_gates_at_random\n",
    "\n",
    "# Initialize an inference method (i.e. a Mitiq Factory)\n",
    "inference_factory = mitiq.zne.inference.LinearFactory(scale_factors=[1.0, 3.0])"
   ]
  },
  {
   "cell_type": "markdown",
   "metadata": {},
   "source": [
    "The next two cells are exactly equal to those of the previous subsection."
   ]
  },
  {
   "cell_type": "code",
   "execution_count": 27,
   "metadata": {},
   "outputs": [
    {
     "name": "stdout",
     "output_type": "stream",
     "text": [
      "Warning: Maximum number of iterations has been exceeded.\n"
     ]
    },
    {
     "data": {
      "image/png": "[encoded data removed]",
      "text/plain": [
       "<Figure size 432x288 with 1 Axes>"
      ]
     },
     "metadata": {
      "needs_background": "light"
     },
     "output_type": "display_data"
    }
   ],
   "source": [
    "def qaoa_mitigated_cost(params: np.array) -> float:\n",
    "    \"\"\"Cost function of the QAOA problem using error mitigation.\"\"\"\n",
    "    qaoa_circuit = qaoa_ansatz(graph, params)\n",
    "    qaoa_obs = qaoa_hamiltonian(graph)\n",
    "    noisy_executor = partial(executor, obs=qaoa_obs, noise=BASE_NOISE)\n",
    "    mitigated_executor = mitigate_executor(noisy_executor, inference_factory, scaling_method)\n",
    "    return mitigated_executor(qaoa_circuit)\n",
    "\n",
    "mitig_opt_cost, mitig_opt_params, mitig_traj = minimize_cost(qaoa_mitigated_cost, init_params)"
   ]
  },
  {
   "cell_type": "code",
   "execution_count": 28,
   "metadata": {},
   "outputs": [
    {
     "name": "stdout",
     "output_type": "stream",
     "text": [
      "Mitigated cost:  -2.9777\n",
      "Noisy cost evaluated at noisy parameters:  -2.5539\n",
      "Noisy cost evaluated at mitigated parameters:  -2.6837\n",
      "Ideal cost evaluated at noisy parameters:  -3.0002\n",
      "Ideal cost evaluated at mitigated parameters:  -3.924\n",
      "Ideal cost:  -4.0\n"
     ]
    }
   ],
   "source": [
    "print(\"Mitigated cost: \", np.round(mitig_opt_cost, 4))\n",
    "print(\"Noisy cost evaluated at noisy parameters: \", np.round(noisy_opt_cost, 4))\n",
    "print(\"Noisy cost evaluated at mitigated parameters: \",np.round(qaoa_noisy_cost(mitig_opt_params), 4))\n",
    "print(\"Ideal cost evaluated at noisy parameters: \", np.round(qaoa_ideal_cost(noisy_opt_params), 4))\n",
    "print(\"Ideal cost evaluated at mitigated parameters: \", np.round(qaoa_ideal_cost(mitig_opt_params), 4))\n",
    "print(\"Ideal cost: \", np.round(ideal_opt_cost, 4))"
   ]
  },
  {
   "cell_type": "markdown",
   "metadata": {},
   "source": [
    "### How to reproduce this notebook\n",
    "\n",
    "This notebook was executed on Mitiq master branch, on commit 7d885cd5b58fae5f3dbec0871b198e171883b17d"
   ]
  },
  {
   "cell_type": "code",
   "execution_count": 29,
   "metadata": {},
   "outputs": [
    {
     "name": "stdout",
     "output_type": "stream",
     "text": [
      "\n",
      "Mitiq: A Python toolkit for implementing error mitigation on quantum computers\n",
      "==============================================================================\n",
      "Authored by: Mitiq team, 2020 & later (https://github.com/unitaryfund/mitiq)\n",
      "\n",
      "Mitiq Version:\t0.4.0dev\n",
      "\n",
      "Core Dependencies\n",
      "-----------------\n",
      "Cirq Version:\t0.9.1\n",
      "NumPy Version:\t1.18.5\n",
      "SciPy Version:\t1.4.1\n",
      "\n",
      "Optional Dependencies\n",
      "---------------------\n",
      "PyQuil Version:\t2.18.0\n",
      "Qiskit Version:\t0.12.0\n",
      "\n",
      "Python Version:\t3.7.7\n",
      "Platform Info:\tLinux (x86_64)\n"
     ]
    }
   ],
   "source": [
    "mitiq.about()"
   ]
  }
 ],
 "metadata": {
  "kernelspec": {
   "display_name": "Python 3",
   "language": "python",
   "name": "python3"
  },
  "language_info": {
   "codemirror_mode": {
    "name": "ipython",
    "version": 3
   },
   "file_extension": ".py",
   "mimetype": "text/x-python",
   "name": "python",
   "nbconvert_exporter": "python",
   "pygments_lexer": "ipython3",
   "version": "3.7.7"
  }
 },
 "nbformat": 4,
 "nbformat_minor": 4
}